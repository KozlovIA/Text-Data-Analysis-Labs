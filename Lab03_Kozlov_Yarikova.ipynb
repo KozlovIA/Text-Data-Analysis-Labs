{
 "cells": [
  {
   "cell_type": "markdown",
   "id": "d272a1f0",
   "metadata": {},
   "source": [
    "# Лаба №3 Козлов, Ярикова. А-03 moment\n",
    "## Классификация текстовых данных"
   ]
  },
  {
   "cell_type": "markdown",
   "id": "8a301d93",
   "metadata": {},
   "source": [
    "| Вариант | Класс     |\n",
    "|:---------:|:-----------:|\n",
    "| 9       | 6, 17, 19 |\n",
    "\n",
    "| № класса | Название класса          |\n",
    "|:----------:|:--------------------------:|\n",
    "| 6        | 'comp.windows.x'  |\n",
    "| 17       | 'talk.politics.guns' |\n",
    "| 19       | 'talk.politics.misc' |"
   ]
  },
  {
   "cell_type": "markdown",
   "id": "4d1da35f",
   "metadata": {},
   "source": [
    "## Код для быстрой записи данных в таблицы (к лабе не относится)"
   ]
  },
  {
   "cell_type": "code",
   "execution_count": 1,
   "id": "ef384885",
   "metadata": {},
   "outputs": [],
   "source": [
    "import pandas as pd\n",
    "from sklearn.metrics import precision_score, recall_score, f1_score, accuracy_score\n",
    "\n",
    "class Table():\n",
    "    def __init__(self, title=None, data=None, headlines=[\"Precision\", \"Recall\", \"F1-score\", \"Accuracy\"],\n",
    "                 indexes=[\"Стемминг отсутствует\", \"Стемминг есть\",\n",
    "                          \"Стоп-слова есть\", \"Стоп-слова отсечены\",\n",
    "                       \"Взвешивание Count\", \"Взвешивание TF\", \"Взвешивание TF-IDF\",\n",
    "                       \"max_features 100\", \"max_features 1000\", \"max_features 2000\", \"max_features 5000\", \"max_features 10000\"],\n",
    "                weighted=True):\n",
    "        \n",
    "        self.headlines = headlines\n",
    "        self.dataFrame = pd.DataFrame(columns=headlines, index=indexes)\n",
    "        if weighted:\n",
    "            self.dataFrame.columns = pd.MultiIndex.from_tuples(\n",
    "                tuple(zip(('Weighted Avg', 'Weighted Avg', 'Weighted Avg', 'Weighted Avg'), self.dataFrame.columns)))\n",
    "        \n",
    "    def fill_row(self, row, data=[], pred='', target='', roc_auc=None):\n",
    "        \"\"\"\n",
    "        Заполняет строки исходя из дефолта\n",
    "        row - row index\n",
    "        pred='' и target='' - полученные классификатором значения и целевые значения\n",
    "        Заполняется значениями Weighted Avg\"\"\"\n",
    "        data = []\n",
    "        data.append(round(precision_score(target, pred, average='weighted'), 3))\n",
    "        data.append(round(recall_score(target, pred, average='weighted'), 3))\n",
    "        data.append(round(f1_score(target, pred, average='weighted'), 3))\n",
    "        data.append(round(accuracy_score(target, pred,), 3))\n",
    "        for i in range(len(self.headlines)):\n",
    "            self.dataFrame.loc[row][i] = data[i]   \n",
    "        return self.dataFrame.loc[row]\n",
    "            \n",
    "    def table(self):\n",
    "        return self.dataFrame\n",
    "        \n",
    "    def __repr__(self):\n",
    "        return f'{self.dataFrame}'\n",
    "\n",
    "delimiter = \"+++++++++++++++++++++++++++++++++++++++++++\"\n",
    "result_table = Table(indexes=[\"Случайный лес с оптимальными параметрами\", \"Метод опорных векторов с оптимальными параметрами\",\n",
    "                             \"Случайный лес с оптимальными параметрами(Glove)\", \"Метод опорных векторов с оптимальными параметрами(Glove)\"])"
   ]
  },
  {
   "cell_type": "code",
   "execution_count": 2,
   "id": "c3702e27",
   "metadata": {},
   "outputs": [],
   "source": [
    "from sklearn.neighbors import KNeighborsClassifier\n",
    "from sklearn.datasets import fetch_20newsgroups\n",
    "from sklearn.feature_extraction.text import CountVectorizer, TfidfTransformer \n",
    "import numpy as np\n",
    "from sklearn.pipeline import Pipeline\n",
    "from sklearn.model_selection import GridSearchCV\n",
    "from sklearn.tree import DecisionTreeClassifier\n",
    "from sklearn.ensemble import RandomForestClassifier\n",
    "from sklearn.naive_bayes import MultinomialNB\n",
    "from sklearn.linear_model import LogisticRegression\n",
    "from sklearn.svm import SVC"
   ]
  },
  {
   "cell_type": "markdown",
   "id": "14a5ed30",
   "metadata": {},
   "source": [
    "# П1. Загрузить выборки по варианту из лабораторной работы №2.\n",
    "### Стемминг проводить не нужно."
   ]
  },
  {
   "cell_type": "code",
   "execution_count": 3,
   "id": "5e903f48",
   "metadata": {},
   "outputs": [],
   "source": [
    "from sklearn.datasets import fetch_20newsgroups\n",
    "categories = ['comp.windows.x', 'talk.politics.guns', 'talk.politics.misc'] \n",
    "remove = ('headers', 'footers', 'quotes')\n",
    "twenty_train = fetch_20newsgroups(subset='train', shuffle=True, random_state=42, categories=categories, remove=remove)\n",
    "twenty_test = fetch_20newsgroups(subset='test', shuffle=True, random_state=42, categories=categories, remove=remove)"
   ]
  },
  {
   "cell_type": "markdown",
   "id": "2773c319",
   "metadata": {},
   "source": [
    "# П2. Настройка параметров с использованием grid search"
   ]
  },
  {
   "cell_type": "markdown",
   "id": "9400cd37",
   "metadata": {},
   "source": [
    "| Вариант | Метод     | Word embedding     |\n",
    "|:---------:|:-----------:|:-----------:|\n",
    "| 9       | RF, SVM | glove-wiki-gigaword-200 |"
   ]
  },
  {
   "cell_type": "markdown",
   "id": "da5f9a54",
   "metadata": {},
   "source": [
    "Случайный лес (RF):\n",
    "* количество деревьев решений,\n",
    "* критерий (параметр criterion: ‘gini’, ‘entropy’),\n",
    "* глубина дерева (5, 15, 50, 100)."
   ]
  },
  {
   "cell_type": "code",
   "execution_count": 4,
   "id": "c99e4448",
   "metadata": {},
   "outputs": [
    {
     "name": "stdout",
     "output_type": "stream",
     "text": [
      "{'clf__criterion': 'gini', 'clf__max_depth': 50, 'clf__n_estimators': 100}\n",
      "+++++++++++++++++++++++++++++++++++++++++++\n",
      "Weighted Avg  Precision    0.738\n",
      "              Recall       0.726\n",
      "              F1-score      0.73\n",
      "              Accuracy     0.726\n",
      "Name: Случайный лес с оптимальными параметрами, dtype: object\n",
      "+++++++++++++++++++++++++++++++++++++++++++\n",
      "\n"
     ]
    }
   ],
   "source": [
    "# Задаем параметры, которые необходимо перебрать\n",
    "parameters = {'clf__criterion': ('gini', 'entropy'),\n",
    "              'clf__max_depth': (5, 15, 50, 100),\n",
    "              'clf__n_estimators': (10, 50, 100, 200)} \n",
    "text_clf = Pipeline([('vect', CountVectorizer(max_features=1000, stop_words='english')),\n",
    "                    ('tfidf', TfidfTransformer(use_idf=True)),\n",
    "                    ('clf', RandomForestClassifier(criterion='gini')),])\n",
    "\n",
    "gs_clf = GridSearchCV(text_clf, parameters, n_jobs=-1, cv=3)\n",
    "gs_clf.fit(twenty_train.data, twenty_train.target)\n",
    "print(gs_clf.best_params_)\n",
    "\n",
    "pred = gs_clf.predict(twenty_test.data)\n",
    "print(delimiter, result_table.fill_row(row='Случайный лес с оптимальными параметрами', pred=pred, target=twenty_test.target), delimiter+'\\n', sep='\\n')"
   ]
  },
  {
   "cell_type": "markdown",
   "id": "bea4d2af",
   "metadata": {},
   "source": [
    "Метод опорных векторов (SVM):\n",
    "* функция потерь (параметр kernel: ‘linear’, ‘rbf’),\n",
    "* регуляризация (параметр C: {0.1, 1, 5})) Обратить внимание, что разные виды регуляризации работают с разными функциями потерь"
   ]
  },
  {
   "cell_type": "code",
   "execution_count": 5,
   "id": "7d8ae96a",
   "metadata": {},
   "outputs": [
    {
     "name": "stdout",
     "output_type": "stream",
     "text": [
      "{'clf__C': 1, 'clf__kernel': 'rbf'}\n",
      "+++++++++++++++++++++++++++++++++++++++++++\n",
      "Weighted Avg  Precision     0.78\n",
      "              Recall       0.776\n",
      "              F1-score     0.777\n",
      "              Accuracy     0.776\n",
      "Name: Метод опорных векторов с оптимальными параметрами, dtype: object\n",
      "+++++++++++++++++++++++++++++++++++++++++++\n",
      "\n"
     ]
    }
   ],
   "source": [
    "# Задаем параметры, которые необходимо перебрать\n",
    "parameters = {'clf__kernel': ('linear', 'rbf'),\n",
    "              'clf__C': (0.1, 1, 5)}\n",
    "text_clf = Pipeline([('vect', CountVectorizer(max_features=1000, stop_words='english')),\n",
    "                    ('tfidf', TfidfTransformer(use_idf=True)),\n",
    "                    ('clf', SVC()),])\n",
    "\n",
    "gs_clf = GridSearchCV(text_clf, parameters, n_jobs=-1, cv=3)\n",
    "gs_clf.fit(twenty_train.data, twenty_train.target)\n",
    "print(gs_clf.best_params_)\n",
    "\n",
    "pred = gs_clf.predict(twenty_test.data)\n",
    "print(delimiter, result_table.fill_row(row='Метод опорных векторов с оптимальными параметрами', pred=pred, target=twenty_test.target), delimiter+'\\n', sep='\\n')"
   ]
  },
  {
   "cell_type": "code",
   "execution_count": 6,
   "id": "2ef6517c",
   "metadata": {},
   "outputs": [
    {
     "data": {
      "text/plain": [
       "dict_keys(['C', 'break_ties', 'cache_size', 'class_weight', 'coef0', 'decision_function_shape', 'degree', 'gamma', 'kernel', 'max_iter', 'probability', 'random_state', 'shrinking', 'tol', 'verbose'])"
      ]
     },
     "execution_count": 6,
     "metadata": {},
     "output_type": "execute_result"
    }
   ],
   "source": [
    "SVC().get_params().keys()"
   ]
  },
  {
   "cell_type": "markdown",
   "id": "bd6610de",
   "metadata": {},
   "source": [
    "# П3. Перевести выборку к векторному представлению word embedding согласно варианту."
   ]
  },
  {
   "cell_type": "markdown",
   "id": "24e199c9",
   "metadata": {},
   "source": [
    "| Вариант | Метод     | Word embedding     |\n",
    "|:---------:|:-----------:|:-----------:|\n",
    "| 9       | RF, SVM | glove-wiki-gigaword-200 |"
   ]
  },
  {
   "cell_type": "code",
   "execution_count": 7,
   "id": "b1d18c1f",
   "metadata": {},
   "outputs": [
    {
     "name": "stdout",
     "output_type": "stream",
     "text": [
      "['fasttext-wiki-news-subwords-300', 'conceptnet-numberbatch-17-06-300', 'word2vec-ruscorpora-300', 'word2vec-google-news-300', 'glove-wiki-gigaword-50', 'glove-wiki-gigaword-100', 'glove-wiki-gigaword-200', 'glove-wiki-gigaword-300', 'glove-twitter-25', 'glove-twitter-50', 'glove-twitter-100', 'glove-twitter-200', '__testing_word2vec-matrix-synopsis']\n"
     ]
    }
   ],
   "source": [
    "import gensim.downloader\n",
    "print(list(gensim.downloader.info()['models'].keys()))"
   ]
  },
  {
   "cell_type": "code",
   "execution_count": 8,
   "id": "46cc8d98",
   "metadata": {},
   "outputs": [],
   "source": [
    "# glove_model = gensim.downloader.load(\"glove-wiki-gigaword-200\")  # load glove vector"
   ]
  },
  {
   "cell_type": "code",
   "execution_count": 9,
   "id": "d69420dc",
   "metadata": {},
   "outputs": [],
   "source": [
    "# glove_model.save(\"glove-wiki-gigaword-200_save\")\n",
    "glove_model = gensim.models.KeyedVectors.load(\"glove-wiki-gigaword-200_save\")"
   ]
  },
  {
   "cell_type": "code",
   "execution_count": 10,
   "id": "fbbbaa4b",
   "metadata": {},
   "outputs": [],
   "source": [
    "def text2vec(text_data):\n",
    "    \n",
    "    vectorizer = CountVectorizer(stop_words='english')\n",
    "    \n",
    "    # Векторизуем с помощью обученного CountVectorizer\n",
    "    X = vectorizer.fit_transform(text_data)\n",
    "    CV_text_data=pd.DataFrame(X.toarray(), columns=vectorizer.get_feature_names_out())\n",
    "#     CV_text_data\n",
    "    # Создадим датафрейм, в который будем сохранять вектор документа\n",
    "    glove_data=pd.DataFrame()\n",
    "    words_vocab=CV_text_data.columns\n",
    "\n",
    "    # Пробегаем по каждой строке (по каждому документу)\n",
    "    for i in range(CV_text_data.shape[0]):\n",
    "\n",
    "        # Вектор одного документа с размерностью glove-модели:\n",
    "        one_doc = np.zeros(200) \n",
    "\n",
    "        # Пробегаемся по каждому документу, смотрим, какие слова документа присутствуют в нашем словаре\n",
    "        # Суммируем glove-вектора каждого известного слова в one_doc\n",
    "        for word in words_vocab[CV_text_data.iloc[i,:] >= 1]:\n",
    "            if word in glove_model.key_to_index.keys(): \n",
    "                #print(word, ': ', glove_model[word])\n",
    "                one_doc += glove_model[word]\n",
    "        #print(text_data[i], ': ', one_doc)\n",
    "        glove_data = pd.concat([glove_data, pd.DataFrame([one_doc])], axis = 0)\n",
    "    #print('glove_data: ', glove_data)\n",
    "    return glove_data"
   ]
  },
  {
   "cell_type": "code",
   "execution_count": 11,
   "id": "3dccfd2e",
   "metadata": {},
   "outputs": [],
   "source": [
    "glove_train = text2vec(twenty_train.data)\n",
    "glove_test = text2vec(twenty_test.data)"
   ]
  },
  {
   "cell_type": "markdown",
   "id": "c23332a1",
   "metadata": {},
   "source": [
    "# П4. Провести обучение и настройку тех же алгоритмов классификации и с теми же параметрами, что и в п.2, но на векторизованной выборке"
   ]
  },
  {
   "cell_type": "code",
   "execution_count": 12,
   "id": "f13de2a7",
   "metadata": {},
   "outputs": [
    {
     "name": "stdout",
     "output_type": "stream",
     "text": [
      "{'clf__criterion': 'entropy', 'clf__max_depth': 100, 'clf__n_estimators': 200}\n",
      "+++++++++++++++++++++++++++++++++++++++++++\n",
      "Weighted Avg  Precision    0.753\n",
      "              Recall       0.757\n",
      "              F1-score     0.752\n",
      "              Accuracy     0.757\n",
      "Name: Случайный лес с оптимальными параметрами(Glove), dtype: object\n",
      "+++++++++++++++++++++++++++++++++++++++++++\n",
      "\n"
     ]
    }
   ],
   "source": [
    "# Задаем параметры, которые необходимо перебрать\n",
    "parameters = {'clf__criterion': ('gini', 'entropy'),\n",
    "              'clf__max_depth': (5, 15, 50, 100),\n",
    "              'clf__n_estimators': (10, 50, 100, 200)} \n",
    "text_clf = Pipeline([('clf', RandomForestClassifier(criterion='gini')),])\n",
    "\n",
    "gs_clf = GridSearchCV(text_clf, parameters, n_jobs=-1, cv=3)\n",
    "gs_clf.fit(glove_train, twenty_train.target)\n",
    "print(gs_clf.best_params_)\n",
    "\n",
    "pred = gs_clf.predict(glove_test)\n",
    "print(delimiter, result_table.fill_row(row='Случайный лес с оптимальными параметрами(Glove)', pred=pred, target=twenty_test.target), delimiter+'\\n', sep='\\n')"
   ]
  },
  {
   "cell_type": "code",
   "execution_count": 13,
   "id": "1a039187",
   "metadata": {},
   "outputs": [
    {
     "name": "stdout",
     "output_type": "stream",
     "text": [
      "{'clf__C': 0.1, 'clf__kernel': 'linear'}\n",
      "+++++++++++++++++++++++++++++++++++++++++++\n",
      "Weighted Avg  Precision     0.74\n",
      "              Recall       0.744\n",
      "              F1-score      0.74\n",
      "              Accuracy     0.744\n",
      "Name: Метод опорных векторов с оптимальными параметрами(Glove), dtype: object\n",
      "+++++++++++++++++++++++++++++++++++++++++++\n",
      "\n"
     ]
    }
   ],
   "source": [
    "# Задаем параметры, которые необходимо перебрать\n",
    "parameters = {'clf__kernel': ('linear', 'rbf'),\n",
    "              'clf__C': (0.1, 1, 5)}\n",
    "text_clf = Pipeline([('clf', SVC()),])\n",
    "\n",
    "gs_clf = GridSearchCV(text_clf, parameters, n_jobs=-1, cv=3)\n",
    "gs_clf.fit(glove_train, twenty_train.target)\n",
    "print(gs_clf.best_params_)\n",
    "\n",
    "pred = gs_clf.predict(glove_test)\n",
    "print(delimiter, result_table.fill_row(row='Метод опорных векторов с оптимальными параметрами(Glove)', pred=pred, target=twenty_test.target), delimiter+'\\n', sep='\\n')"
   ]
  },
  {
   "cell_type": "markdown",
   "id": "66337c3f",
   "metadata": {},
   "source": [
    "# Итоговая таблица и выводы"
   ]
  },
  {
   "cell_type": "code",
   "execution_count": 14,
   "id": "1c459032",
   "metadata": {},
   "outputs": [
    {
     "data": {
      "text/html": [
       "<div>\n",
       "<style scoped>\n",
       "    .dataframe tbody tr th:only-of-type {\n",
       "        vertical-align: middle;\n",
       "    }\n",
       "\n",
       "    .dataframe tbody tr th {\n",
       "        vertical-align: top;\n",
       "    }\n",
       "\n",
       "    .dataframe thead tr th {\n",
       "        text-align: left;\n",
       "    }\n",
       "</style>\n",
       "<table border=\"1\" class=\"dataframe\">\n",
       "  <thead>\n",
       "    <tr>\n",
       "      <th></th>\n",
       "      <th colspan=\"4\" halign=\"left\">Weighted Avg</th>\n",
       "    </tr>\n",
       "    <tr>\n",
       "      <th></th>\n",
       "      <th>Precision</th>\n",
       "      <th>Recall</th>\n",
       "      <th>F1-score</th>\n",
       "      <th>Accuracy</th>\n",
       "    </tr>\n",
       "  </thead>\n",
       "  <tbody>\n",
       "    <tr>\n",
       "      <th>Случайный лес с оптимальными параметрами</th>\n",
       "      <td>0.738</td>\n",
       "      <td>0.726</td>\n",
       "      <td>0.73</td>\n",
       "      <td>0.726</td>\n",
       "    </tr>\n",
       "    <tr>\n",
       "      <th>Метод опорных векторов с оптимальными параметрами</th>\n",
       "      <td>0.78</td>\n",
       "      <td>0.776</td>\n",
       "      <td>0.777</td>\n",
       "      <td>0.776</td>\n",
       "    </tr>\n",
       "    <tr>\n",
       "      <th>Случайный лес с оптимальными параметрами(Glove)</th>\n",
       "      <td>0.753</td>\n",
       "      <td>0.757</td>\n",
       "      <td>0.752</td>\n",
       "      <td>0.757</td>\n",
       "    </tr>\n",
       "    <tr>\n",
       "      <th>Метод опорных векторов с оптимальными параметрами(Glove)</th>\n",
       "      <td>0.74</td>\n",
       "      <td>0.744</td>\n",
       "      <td>0.74</td>\n",
       "      <td>0.744</td>\n",
       "    </tr>\n",
       "  </tbody>\n",
       "</table>\n",
       "</div>"
      ],
      "text/plain": [
       "                                                   Weighted Avg         \\\n",
       "                                                      Precision Recall   \n",
       "Случайный лес с оптимальными параметрами                  0.738  0.726   \n",
       "Метод опорных векторов с оптимальными параметрами          0.78  0.776   \n",
       "Случайный лес с оптимальными параметрами(Glove)           0.753  0.757   \n",
       "Метод опорных векторов с оптимальными параметра...         0.74  0.744   \n",
       "\n",
       "                                                                      \n",
       "                                                   F1-score Accuracy  \n",
       "Случайный лес с оптимальными параметрами               0.73    0.726  \n",
       "Метод опорных векторов с оптимальными параметрами     0.777    0.776  \n",
       "Случайный лес с оптимальными параметрами(Glove)       0.752    0.757  \n",
       "Метод опорных векторов с оптимальными параметра...     0.74    0.744  "
      ]
     },
     "execution_count": 14,
     "metadata": {},
     "output_type": "execute_result"
    }
   ],
   "source": [
    "result_table.table()"
   ]
  },
  {
   "cell_type": "markdown",
   "id": "7c9b933d",
   "metadata": {},
   "source": [
    "С использованием __GridSearchCV__ удалось настроить оптимальные параметры\n",
    "В первом случае, при использовании __TF-IDF__ лучше справился **метод опорных векторов**, однако при использовании __Glove__, обученным на википедии, лучшие результаты показал __случайный лес__. В целом, все результаты классификации получилсь неплохие.\n",
    "\n",
    "Можно заметить ухудшение качества классификации при переходе на __Glove__, это может быть связано как с тем, что метод использует всего 200 слов, так и с тем, что он обучен на википедии, а наша выборка состоит из новостных текстов."
   ]
  }
 ],
 "metadata": {
  "kernelspec": {
   "display_name": "Python 3 (ipykernel)",
   "language": "python",
   "name": "python3"
  },
  "language_info": {
   "codemirror_mode": {
    "name": "ipython",
    "version": 3
   },
   "file_extension": ".py",
   "mimetype": "text/x-python",
   "name": "python",
   "nbconvert_exporter": "python",
   "pygments_lexer": "ipython3",
   "version": "3.9.12"
  }
 },
 "nbformat": 4,
 "nbformat_minor": 5
}
